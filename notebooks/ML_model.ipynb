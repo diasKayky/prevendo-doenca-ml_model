{
 "cells": [
  {
   "cell_type": "markdown",
   "id": "edd3cc09",
   "metadata": {},
   "source": [
    "# Modelo Preditivo de Condições Médicas"
   ]
  },
  {
   "cell_type": "markdown",
   "id": "0725d5fe",
   "metadata": {},
   "source": [
    "Utilizando o algoritmo de árvore de decisão, o modelo de machine learning tem entradas de sintomas representados como colunas, podendo assumir valores binários (1 = apresenta o sintoma; 0 = não apresenta o sintoma). O modelo retorna a condição médica a qual aqueles sintomas estão associados."
   ]
  },
  {
   "cell_type": "code",
   "execution_count": 13,
   "id": "3d87ac66",
   "metadata": {},
   "outputs": [],
   "source": [
    "#Importações de libraries importantes\n",
    "import pandas as pd\n",
    "import numpy as np\n",
    "from sklearn.tree import DecisionTreeClassifier\n",
    "\n",
    "#Limpando e setando os datasets\n",
    "training_df = pd.read_csv(\"../data/Training.csv\")\n",
    "testing_df = pd.read_csv(\"../data/Testing.csv\")\n",
    "del training_df[\"Unnamed: 133\"]"
   ]
  },
  {
   "cell_type": "code",
   "execution_count": 14,
   "id": "d36b7bca",
   "metadata": {},
   "outputs": [],
   "source": [
    "#Definindo X e Y\n",
    "features = ['itching', 'skin_rash', 'nodal_skin_eruptions', 'continuous_sneezing', \n",
    "            'shivering', 'chills', 'joint_pain', 'stomach_pain', 'acidity', 'ulcers_on_tongue', 'muscle_wasting', 'vomiting', 'burning_micturition', 'spotting_ urination', 'fatigue', 'weight_gain', 'anxiety', 'cold_hands_and_feets', 'mood_swings', 'weight_loss', 'restlessness', 'lethargy', 'patches_in_throat', 'irregular_sugar_level', 'cough', 'high_fever', 'sunken_eyes', 'breathlessness', 'sweating', 'dehydration', 'indigestion', \n",
    "            'headache', 'yellowish_skin', 'dark_urine', 'nausea', 'loss_of_appetite', 'pain_behind_the_eyes', 'back_pain', 'constipation', 'abdominal_pain', 'diarrhoea', 'mild_fever', 'yellow_urine', 'yellowing_of_eyes', 'acute_liver_failure', 'fluid_overload', 'swelling_of_stomach', 'swelled_lymph_nodes', 'malaise', 'blurred_and_distorted_vision', 'phlegm', 'throat_irritation', 'redness_of_eyes', 'sinus_pressure', 'runny_nose', \n",
    "            'congestion', 'chest_pain', 'weakness_in_limbs', 'fast_heart_rate', 'pain_during_bowel_movements', 'pain_in_anal_region', 'bloody_stool', 'irritation_in_anus', 'neck_pain', 'dizziness', 'cramps', 'bruising', 'obesity', 'swollen_legs', 'swollen_blood_vessels', 'puffy_face_and_eyes', 'enlarged_thyroid', 'brittle_nails', 'swollen_extremeties', 'excessive_hunger', 'extra_marital_contacts', 'drying_and_tingling_lips', 'slurred_speech', 'knee_pain', \n",
    "            'hip_joint_pain', 'muscle_weakness', 'stiff_neck', 'swelling_joints', 'movement_stiffness', 'spinning_movements', 'loss_of_balance', 'unsteadiness', 'weakness_of_one_body_side', 'loss_of_smell', 'bladder_discomfort', 'foul_smell_of urine', 'continuous_feel_of_urine', 'passage_of_gases', 'internal_itching', 'toxic_look_(typhos)', 'depression', 'irritability', 'muscle_pain', 'altered_sensorium', 'red_spots_over_body', 'belly_pain', 'abnormal_menstruation', 'dischromic _patches', 'watering_from_eyes', 'increased_appetite', 'polyuria', 'family_history', 'mucoid_sputum', 'rusty_sputum', 'lack_of_concentration', 'visual_disturbances', 'receiving_blood_transfusion', 'receiving_unsterile_injections', 'coma', 'stomach_bleeding', 'distention_of_abdomen', 'history_of_alcohol_consumption', \n",
    "            'fluid_overload.1', 'blood_in_sputum', 'prominent_veins_on_calf', 'palpitations', 'painful_walking', \n",
    "            'pus_filled_pimples', 'blackheads', 'scurring', 'skin_peeling', 'silver_like_dusting', 'small_dents_in_nails', 'inflammatory_nails', 'blister', 'red_sore_around_nose', 'yellow_crust_ooze']\n",
    "\n",
    "\n",
    "X = training_df[features]\n",
    "Y = training_df[\"prognosis\"]"
   ]
  },
  {
   "cell_type": "code",
   "execution_count": 15,
   "id": "0b2c6d48",
   "metadata": {},
   "outputs": [
    {
     "data": {
      "text/plain": [
       "array(['Fungal infection', 'Allergy', 'GERD', 'Chronic cholestasis',\n",
       "       'Drug Reaction', 'Peptic ulcer diseae', 'AIDS', 'Diabetes ',\n",
       "       'Gastroenteritis', 'Bronchial Asthma', 'Hypertension ', 'Migraine',\n",
       "       'Cervical spondylosis', 'Paralysis (brain hemorrhage)', 'Jaundice',\n",
       "       'Malaria', 'Chicken pox', 'Dengue', 'Typhoid', 'hepatitis A',\n",
       "       'Hepatitis B', 'Hepatitis C', 'Hepatitis D', 'Hepatitis E',\n",
       "       'Alcoholic hepatitis', 'Tuberculosis', 'Common Cold', 'Pneumonia',\n",
       "       'Dimorphic hemmorhoids(piles)', 'Heart attack', 'Varicose veins',\n",
       "       'Hypothyroidism', 'Hyperthyroidism', 'Hypoglycemia',\n",
       "       'Osteoarthristis', 'Arthritis',\n",
       "       '(vertigo) Paroymsal  Positional Vertigo', 'Acne',\n",
       "       'Urinary tract infection', 'Psoriasis', 'Impetigo',\n",
       "       'Fungal infection'], dtype=object)"
      ]
     },
     "execution_count": 15,
     "metadata": {},
     "output_type": "execute_result"
    }
   ],
   "source": [
    "#Fitando o modelo e prevendo dados\n",
    "modelo = DecisionTreeClassifier(criterion='entropy')\n",
    "modelo.fit(X, Y)\n",
    "pred_Y = modelo.predict(testing_df[features])\n",
    "pred_Y"
   ]
  },
  {
   "cell_type": "code",
   "execution_count": 16,
   "id": "581e315c",
   "metadata": {},
   "outputs": [
    {
     "data": {
      "text/plain": [
       "0     True\n",
       "1     True\n",
       "2     True\n",
       "3     True\n",
       "4     True\n",
       "5     True\n",
       "6     True\n",
       "7     True\n",
       "8     True\n",
       "9     True\n",
       "10    True\n",
       "11    True\n",
       "12    True\n",
       "13    True\n",
       "14    True\n",
       "15    True\n",
       "16    True\n",
       "17    True\n",
       "18    True\n",
       "19    True\n",
       "20    True\n",
       "21    True\n",
       "22    True\n",
       "23    True\n",
       "24    True\n",
       "25    True\n",
       "26    True\n",
       "27    True\n",
       "28    True\n",
       "29    True\n",
       "30    True\n",
       "31    True\n",
       "32    True\n",
       "33    True\n",
       "34    True\n",
       "35    True\n",
       "36    True\n",
       "37    True\n",
       "38    True\n",
       "39    True\n",
       "40    True\n",
       "41    True\n",
       "Name: prognosis, dtype: bool"
      ]
     },
     "execution_count": 16,
     "metadata": {},
     "output_type": "execute_result"
    }
   ],
   "source": [
    "#Compara os dados preditos com os dados do dataset\n",
    "testing_df[\"prognosis\"] == pred_Y"
   ]
  },
  {
   "cell_type": "code",
   "execution_count": 22,
   "id": "b41192f6",
   "metadata": {},
   "outputs": [
    {
     "name": "stdout",
     "output_type": "stream",
     "text": [
      " A precisão do modelo é de 1.0\n"
     ]
    }
   ],
   "source": [
    "#Printa o score do modelo\n",
    "score = metrics.accuracy_score(testing_df[\"prognosis\"], pred_Y)\n",
    "print(f\" A precisão do modelo é de {score}\")"
   ]
  },
  {
   "cell_type": "markdown",
   "id": "b7d1dfdc",
   "metadata": {},
   "source": [
    "Esse é um modelo teste, para ser usado em um contexto clínico, deve-se aumentar sua base de dados e aprimorar sua acurácia para prever condições médicas reais."
   ]
  }
 ],
 "metadata": {
  "kernelspec": {
   "display_name": "Python 3 (ipykernel)",
   "language": "python",
   "name": "python3"
  },
  "language_info": {
   "codemirror_mode": {
    "name": "ipython",
    "version": 3
   },
   "file_extension": ".py",
   "mimetype": "text/x-python",
   "name": "python",
   "nbconvert_exporter": "python",
   "pygments_lexer": "ipython3",
   "version": "3.9.13"
  }
 },
 "nbformat": 4,
 "nbformat_minor": 5
}
